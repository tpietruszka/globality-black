{
 "cells": [
  {
   "cell_type": "markdown",
   "id": "expressed-california",
   "metadata": {
    "lines_to_next_cell": 0
   },
   "source": [
    "This is just an exploration notebook to experiment with parso and help in development of new\n",
    "features\n"
   ]
  },
  {
   "cell_type": "code",
   "execution_count": 2,
   "id": "reduced-still",
   "metadata": {
    "execution": {
     "iopub.execute_input": "2022-03-07T09:14:33.667426Z",
     "iopub.status.busy": "2022-03-07T09:14:33.667184Z",
     "iopub.status.idle": "2022-03-07T09:14:42.112332Z",
     "shell.execute_reply": "2022-03-07T09:14:42.111585Z",
     "shell.execute_reply.started": "2022-03-07T09:14:33.667401Z"
    },
    "lines_to_next_cell": 2,
    "tags": []
   },
   "outputs": [],
   "source": [
    "import re\n",
    "from pathlib import Path\n",
    "\n",
    "import pandas as pd\n",
    "import parso\n",
    "from parso.python.tree import Function"
   ]
  },
  {
   "cell_type": "code",
   "execution_count": 3,
   "id": "ongoing-rainbow",
   "metadata": {
    "execution": {
     "iopub.execute_input": "2022-03-07T09:14:46.718674Z",
     "iopub.status.busy": "2022-03-07T09:14:46.718408Z",
     "iopub.status.idle": "2022-03-07T09:14:46.722374Z",
     "shell.execute_reply": "2022-03-07T09:14:46.721268Z",
     "shell.execute_reply.started": "2022-03-07T09:14:46.718645Z"
    },
    "tags": []
   },
   "outputs": [],
   "source": [
    "path = \"sample.py\"\n",
    "path = \"../globality_black/tests/fixtures/ternary_input.txt\""
   ]
  },
  {
   "cell_type": "code",
   "execution_count": 26,
   "id": "infectious-dollar",
   "metadata": {
    "execution": {
     "iopub.execute_input": "2022-03-07T09:20:37.693527Z",
     "iopub.status.busy": "2022-03-07T09:20:37.693289Z",
     "iopub.status.idle": "2022-03-07T09:20:37.698099Z",
     "shell.execute_reply": "2022-03-07T09:20:37.697288Z",
     "shell.execute_reply.started": "2022-03-07T09:20:37.693502Z"
    },
    "tags": []
   },
   "outputs": [],
   "source": [
    "file_contents = Path(path).read_text()\n",
    "module = parso.parse(file_contents)"
   ]
  },
  {
   "cell_type": "code",
   "execution_count": 27,
   "id": "needed-hotel",
   "metadata": {
    "execution": {
     "iopub.execute_input": "2022-03-07T09:20:38.468523Z",
     "iopub.status.busy": "2022-03-07T09:20:38.468293Z",
     "iopub.status.idle": "2022-03-07T09:20:38.472587Z",
     "shell.execute_reply": "2022-03-07T09:20:38.471687Z",
     "shell.execute_reply.started": "2022-03-07T09:20:38.468498Z"
    },
    "tags": []
   },
   "outputs": [
    {
     "data": {
      "text/plain": [
       "<Module: @4-12>"
      ]
     },
     "execution_count": 27,
     "metadata": {},
     "output_type": "execute_result"
    }
   ],
   "source": [
    "module"
   ]
  },
  {
   "cell_type": "code",
   "execution_count": 28,
   "id": "damaged-processing",
   "metadata": {
    "execution": {
     "iopub.execute_input": "2022-03-07T09:20:40.092988Z",
     "iopub.status.busy": "2022-03-07T09:20:40.092764Z",
     "iopub.status.idle": "2022-03-07T09:20:40.096803Z",
     "shell.execute_reply": "2022-03-07T09:20:40.096050Z",
     "shell.execute_reply.started": "2022-03-07T09:20:40.092964Z"
    },
    "tags": []
   },
   "outputs": [
    {
     "name": "stdout",
     "output_type": "stream",
     "text": [
      "True\n",
      "# in this file we cover lines using the ternary operator\n",
      "\n",
      "# if very short, just leave it\n",
      "variable = 1 if True else 0\n",
      "\n",
      "def function_with_a_very_long_name_so_long_we_want_to_explode():\n",
      "    return\n",
      "\n",
      "\n",
      "# size 1 tuple non-exploded. Should stay the same\n",
      "marc = function_with_a_very_long_name_so_long_we_want_to_explode() if True else False\n",
      "\n"
     ]
    }
   ],
   "source": [
    "output = module.get_code()\n",
    "type(output)\n",
    "print(file_contents == output)\n",
    "print(output[:1_000])"
   ]
  },
  {
   "cell_type": "code",
   "execution_count": 29,
   "id": "occupied-letters",
   "metadata": {
    "execution": {
     "iopub.execute_input": "2022-03-07T09:20:43.781677Z",
     "iopub.status.busy": "2022-03-07T09:20:43.781426Z",
     "iopub.status.idle": "2022-03-07T09:20:43.786006Z",
     "shell.execute_reply": "2022-03-07T09:20:43.785353Z",
     "shell.execute_reply.started": "2022-03-07T09:20:43.781646Z"
    },
    "tags": []
   },
   "outputs": [
    {
     "data": {
      "text/plain": [
       "PythonNode(simple_stmt, [<ExprStmt: # in this file we cover lines using the ternary operator  # if very short, just leave it variable = 1 if True else 0@4,0>, <Newline: '\\n'>])"
      ]
     },
     "execution_count": 29,
     "metadata": {},
     "output_type": "execute_result"
    }
   ],
   "source": [
    "x = module.children[0]\n",
    "x"
   ]
  },
  {
   "cell_type": "code",
   "execution_count": 30,
   "id": "29aad396-ba7d-43dc-b4cd-59bd6acb47ba",
   "metadata": {
    "execution": {
     "iopub.execute_input": "2022-03-07T09:20:45.066916Z",
     "iopub.status.busy": "2022-03-07T09:20:45.066678Z",
     "iopub.status.idle": "2022-03-07T09:20:45.071214Z",
     "shell.execute_reply": "2022-03-07T09:20:45.070480Z",
     "shell.execute_reply.started": "2022-03-07T09:20:45.066891Z"
    },
    "tags": []
   },
   "outputs": [
    {
     "data": {
      "text/plain": [
       "<ExprStmt: # in this file we cover lines using the ternary operator  # if very short, just leave it variable = 1 if True else 0@4,0>"
      ]
     },
     "execution_count": 30,
     "metadata": {},
     "output_type": "execute_result"
    }
   ],
   "source": [
    "x = x.children[0]\n",
    "x"
   ]
  },
  {
   "cell_type": "code",
   "execution_count": 33,
   "id": "6c5a4a40-e027-4b87-8475-d4c977f850f3",
   "metadata": {
    "execution": {
     "iopub.execute_input": "2022-03-07T09:21:13.266595Z",
     "iopub.status.busy": "2022-03-07T09:21:13.266372Z",
     "iopub.status.idle": "2022-03-07T09:21:13.271329Z",
     "shell.execute_reply": "2022-03-07T09:21:13.270557Z",
     "shell.execute_reply.started": "2022-03-07T09:21:13.266571Z"
    },
    "tags": []
   },
   "outputs": [
    {
     "data": {
      "text/plain": [
       "(4, 27)"
      ]
     },
     "execution_count": 33,
     "metadata": {},
     "output_type": "execute_result"
    }
   ],
   "source": [
    "x.children[2].__dir__()\n",
    "x.children[2].end_pos"
   ]
  },
  {
   "cell_type": "code",
   "execution_count": null,
   "id": "f3e47543-39a6-4779-bb66-02468bed783c",
   "metadata": {
    "execution": {
     "iopub.execute_input": "2022-03-07T09:15:24.878005Z",
     "iopub.status.busy": "2022-03-07T09:15:24.877776Z",
     "iopub.status.idle": "2022-03-07T09:15:25.036165Z",
     "shell.execute_reply": "2022-03-07T09:15:25.034885Z",
     "shell.execute_reply.started": "2022-03-07T09:15:24.877981Z"
    },
    "tags": []
   },
   "outputs": [],
   "source": [
    "x.prefix"
   ]
  },
  {
   "cell_type": "code",
   "execution_count": null,
   "id": "spatial-italy",
   "metadata": {},
   "outputs": [],
   "source": [
    "x.get_first_leaf()"
   ]
  },
  {
   "cell_type": "code",
   "execution_count": null,
   "id": "reflected-mistress",
   "metadata": {},
   "outputs": [],
   "source": [
    "x.children[0].children[0].prefix"
   ]
  },
  {
   "cell_type": "code",
   "execution_count": null,
   "id": "understanding-outdoors",
   "metadata": {},
   "outputs": [],
   "source": [
    "y = module.get_leaf_for_position(x.start_pos)"
   ]
  },
  {
   "cell_type": "code",
   "execution_count": null,
   "id": "present-shepherd",
   "metadata": {},
   "outputs": [],
   "source": [
    "y.prefix"
   ]
  },
  {
   "cell_type": "code",
   "execution_count": null,
   "id": "hungarian-offense",
   "metadata": {},
   "outputs": [],
   "source": [
    "x.get_first_leaf()"
   ]
  },
  {
   "cell_type": "code",
   "execution_count": null,
   "id": "laughing-winning",
   "metadata": {},
   "outputs": [],
   "source": [
    "func = next(module.iter_funcdefs())\n",
    "func"
   ]
  },
  {
   "cell_type": "code",
   "execution_count": null,
   "id": "adolescent-discharge",
   "metadata": {},
   "outputs": [],
   "source": [
    "func.children[2].children[-1].get_first_leaf()"
   ]
  },
  {
   "cell_type": "code",
   "execution_count": null,
   "id": "cubic-peripheral",
   "metadata": {},
   "outputs": [],
   "source": [
    "def detect_magic_comma(function: Function):\n",
    "    # get last param in signature. get its children and\n",
    "    # check if the last one equals \",\"\n",
    "    if len(function.get_params()) > 0:\n",
    "        return function.get_params()[-1].children[-1] == \",\"\n",
    "    return False"
   ]
  },
  {
   "cell_type": "markdown",
   "id": "economic-alias",
   "metadata": {
    "incorrectly_encoded_metadata": "toc-hr-collapsed=true toc-nb-collapsed=true"
   },
   "source": [
    "## detect magic comma for functions"
   ]
  },
  {
   "cell_type": "code",
   "execution_count": null,
   "id": "designed-filling",
   "metadata": {},
   "outputs": [],
   "source": [
    "print(module.children[0].type == \"funcdef\")"
   ]
  },
  {
   "cell_type": "code",
   "execution_count": null,
   "id": "labeled-enlargement",
   "metadata": {},
   "outputs": [],
   "source": [
    "# go through every function (class methods TODO)\n",
    "f = module.children[1]\n",
    "print(f.get_code())"
   ]
  },
  {
   "cell_type": "code",
   "execution_count": null,
   "id": "tutorial-frost",
   "metadata": {},
   "outputs": [],
   "source": [
    "params = f.get_params()\n",
    "params"
   ]
  },
  {
   "cell_type": "code",
   "execution_count": null,
   "id": "southwest-superintendent",
   "metadata": {},
   "outputs": [],
   "source": [
    "params[-1].children"
   ]
  },
  {
   "cell_type": "code",
   "execution_count": null,
   "id": "toxic-christmas",
   "metadata": {},
   "outputs": [],
   "source": [
    "detect_magic_comma(f)"
   ]
  },
  {
   "cell_type": "markdown",
   "id": "recognized-diabetes",
   "metadata": {},
   "source": [
    "## detect magic comma for class methods"
   ]
  },
  {
   "cell_type": "code",
   "execution_count": null,
   "id": "brilliant-sandwich",
   "metadata": {},
   "outputs": [],
   "source": [
    "c = module.children[3]\n",
    "c"
   ]
  },
  {
   "cell_type": "code",
   "execution_count": null,
   "id": "operational-participation",
   "metadata": {},
   "outputs": [],
   "source": [
    "for function in c.iter_funcdefs():\n",
    "    print(f\"{function.name.value}: {detect_magic_comma(function)}\")"
   ]
  },
  {
   "cell_type": "code",
   "execution_count": null,
   "id": "posted-responsibility",
   "metadata": {},
   "outputs": [],
   "source": [
    "cf = list(c.iter_funcdefs())[1]\n",
    "list(cf.iter_funcdefs())"
   ]
  },
  {
   "cell_type": "code",
   "execution_count": null,
   "id": "intelligent-biology",
   "metadata": {},
   "outputs": [],
   "source": [
    "def get_indent_first_param(function):\n",
    "    pos = function.get_params()[0].start_pos\n",
    "    prefix = function.get_leaf_for_position(pos).prefix\n",
    "    return get_indent_from_prefix(prefix)"
   ]
  },
  {
   "cell_type": "code",
   "execution_count": null,
   "id": "virtual-reminder",
   "metadata": {},
   "outputs": [],
   "source": [
    "def get_indent_from_prefix(prefix):\n",
    "    if prefix:\n",
    "        try:\n",
    "            return re.findall(\"( *)$\", prefix)[0]\n",
    "        except Exception:\n",
    "            breakpoint()\n",
    "    else:\n",
    "        return prefix"
   ]
  },
  {
   "cell_type": "code",
   "execution_count": null,
   "id": "timely-contest",
   "metadata": {},
   "outputs": [],
   "source": [
    "def correct_prefix_if_magic_comma(function):\n",
    "\n",
    "    if detect_magic_comma(function):\n",
    "        params = function.get_params()\n",
    "        prefix = function.get_first_leaf().prefix\n",
    "        base_indent = get_indent_from_prefix(prefix)\n",
    "        for param in params:\n",
    "\n",
    "            leaf = param.get_first_leaf()\n",
    "            leaf.prefix = \"\\n\" + base_indent + \" \" * 4\n",
    "\n",
    "        # get right parentheses\n",
    "        leaf = function.children[2].children[-1].get_first_leaf()\n",
    "        leaf.prefix = \"\\n\" + base_indent\n",
    "\n",
    "    for nested_function in function.iter_funcdefs():\n",
    "        correct_prefix_if_magic_comma(nested_function)"
   ]
  },
  {
   "cell_type": "code",
   "execution_count": null,
   "id": "north-welsh",
   "metadata": {},
   "outputs": [],
   "source": [
    "for c in module.children:\n",
    "    print(c)"
   ]
  },
  {
   "cell_type": "code",
   "execution_count": null,
   "id": "bigger-burlington",
   "metadata": {},
   "outputs": [],
   "source": [
    "module.children[1].type"
   ]
  },
  {
   "cell_type": "markdown",
   "id": "seeing-arkansas",
   "metadata": {},
   "source": [
    "## Experiment with function calls"
   ]
  },
  {
   "cell_type": "code",
   "execution_count": null,
   "id": "stupid-reference",
   "metadata": {},
   "outputs": [],
   "source": [
    "print(module.get_code())"
   ]
  },
  {
   "cell_type": "code",
   "execution_count": null,
   "id": "attempted-oliver",
   "metadata": {},
   "outputs": [],
   "source": [
    "class TypeFinder:\n",
    "    def __init__(self, types_to_find):\n",
    "        self.types_to_find = types_to_find\n",
    "\n",
    "    def __call__(self, node):\n",
    "        if node.type in self.types_to_find:\n",
    "            yield node\n",
    "        if hasattr(node, \"children\"):\n",
    "            for child in node.children:\n",
    "                yield from self(child)"
   ]
  },
  {
   "cell_type": "code",
   "execution_count": null,
   "id": "instrumental-growing",
   "metadata": {},
   "outputs": [],
   "source": [
    "arglist = module.children[2].children[0].children[1].children[1]\n",
    "arglist"
   ]
  },
  {
   "cell_type": "code",
   "execution_count": null,
   "id": "selected-functionality",
   "metadata": {},
   "outputs": [],
   "source": [
    "# finder = TypeFinder([\"funcdef\", \"arglist\"])\n",
    "finder = TypeFinder([\"parameters\", \"arglist\"])\n",
    "for elem in finder(module):\n",
    "    print(elem)\n",
    "    break"
   ]
  },
  {
   "cell_type": "code",
   "execution_count": null,
   "id": "personalized-three",
   "metadata": {},
   "outputs": [],
   "source": [
    "elem.get_params()[-1]"
   ]
  },
  {
   "cell_type": "code",
   "execution_count": null,
   "id": "disabled-fashion",
   "metadata": {},
   "outputs": [],
   "source": [
    "elem.children[-2]"
   ]
  },
  {
   "cell_type": "code",
   "execution_count": null,
   "id": "middle-rhythm",
   "metadata": {},
   "outputs": [],
   "source": [
    "elem.get_params()[-1].children[-1]"
   ]
  },
  {
   "cell_type": "code",
   "execution_count": null,
   "id": "exact-marking",
   "metadata": {},
   "outputs": [],
   "source": [
    "print(elem.get_code())"
   ]
  },
  {
   "cell_type": "code",
   "execution_count": null,
   "id": "virtual-council",
   "metadata": {},
   "outputs": [],
   "source": [
    "elem.children"
   ]
  },
  {
   "cell_type": "markdown",
   "id": "impossible-appendix",
   "metadata": {},
   "source": [
    "## Dotted chains"
   ]
  },
  {
   "cell_type": "code",
   "execution_count": 4,
   "id": "secure-genealogy",
   "metadata": {
    "execution": {
     "iopub.execute_input": "2021-08-05T18:45:49.711994Z",
     "iopub.status.busy": "2021-08-05T18:45:49.711778Z",
     "iopub.status.idle": "2021-08-05T18:45:49.715139Z",
     "shell.execute_reply": "2021-08-05T18:45:49.714307Z",
     "shell.execute_reply.started": "2021-08-05T18:45:49.711972Z"
    },
    "tags": []
   },
   "outputs": [],
   "source": [
    "path = \"../globality_black/tests/fixtures/dotted_chains_input.txt\""
   ]
  },
  {
   "cell_type": "code",
   "execution_count": 206,
   "id": "featured-crown",
   "metadata": {
    "execution": {
     "iopub.execute_input": "2021-08-06T06:39:00.956810Z",
     "iopub.status.busy": "2021-08-06T06:39:00.956586Z",
     "iopub.status.idle": "2021-08-06T06:39:00.976657Z",
     "shell.execute_reply": "2021-08-06T06:39:00.976024Z",
     "shell.execute_reply.started": "2021-08-06T06:39:00.956787Z"
    },
    "tags": []
   },
   "outputs": [],
   "source": [
    "file_contents = Path(path).read_text()\n",
    "module = parso.parse(file_contents)"
   ]
  },
  {
   "cell_type": "code",
   "execution_count": 200,
   "id": "center-plain",
   "metadata": {
    "execution": {
     "iopub.execute_input": "2021-08-05T20:49:07.125175Z",
     "iopub.status.busy": "2021-08-05T20:49:07.124953Z",
     "iopub.status.idle": "2021-08-05T20:49:07.128914Z",
     "shell.execute_reply": "2021-08-05T20:49:07.128013Z",
     "shell.execute_reply.started": "2021-08-05T20:49:07.125151Z"
    },
    "tags": []
   },
   "outputs": [
    {
     "name": "stdout",
     "output_type": "stream",
     "text": [
      "import pandas as pd\n",
      "\n",
      "\n",
      "def foo():\n",
      "    batch = (\n",
      "        batch\n",
      "        .sample(\n",
      "            frac=param1,\n"
     ]
    }
   ],
   "source": [
    "output = module.get_code().split(\"\\n\")\n",
    "print(\"\\n\".join(output[:8]))"
   ]
  },
  {
   "cell_type": "code",
   "execution_count": 207,
   "id": "danish-surrey",
   "metadata": {
    "execution": {
     "iopub.execute_input": "2021-08-06T06:39:03.099771Z",
     "iopub.status.busy": "2021-08-06T06:39:03.099431Z",
     "iopub.status.idle": "2021-08-06T06:39:03.107082Z",
     "shell.execute_reply": "2021-08-06T06:39:03.106363Z",
     "shell.execute_reply.started": "2021-08-06T06:39:03.099746Z"
    },
    "tags": []
   },
   "outputs": [
    {
     "name": "stdout",
     "output_type": "stream",
     "text": [
      "    batch = (\n",
      "        batch(a)(b)\n",
      "        .sample(\n",
      "            frac=param1,\n",
      "            rs=param2,\n",
      "        )\n",
      "        .reset_index(drop1=True)(drop2=True)\n",
      "        .reset_index(drop=True).reset_index(drop=True)\n",
      "    )\n"
     ]
    },
    {
     "data": {
      "text/plain": [
       "<ExprStmt: batch = (         batch(a)(b)         .sample(             frac=param1,             rs=param2,         )         .reset_index(drop1=True)(drop2=True)         .reset_index(drop=True).reset_index(drop=True)     )@5,4>"
      ]
     },
     "execution_count": 207,
     "metadata": {},
     "output_type": "execute_result"
    }
   ],
   "source": [
    "block1 = module.children[1].children[4].children[1].children[0]\n",
    "print(block1.get_code())\n",
    "block1"
   ]
  },
  {
   "cell_type": "code",
   "execution_count": 85,
   "id": "exterior-frontier",
   "metadata": {
    "collapsed": true,
    "execution": {
     "iopub.execute_input": "2021-08-05T19:17:50.238411Z",
     "iopub.status.busy": "2021-08-05T19:17:50.238181Z",
     "iopub.status.idle": "2021-08-05T19:17:50.244523Z",
     "shell.execute_reply": "2021-08-05T19:17:50.243441Z",
     "shell.execute_reply.started": "2021-08-05T19:17:50.238386Z"
    },
    "jupyter": {
     "outputs_hidden": true,
     "source_hidden": true
    },
    "tags": []
   },
   "outputs": [
    {
     "name": "stdout",
     "output_type": "stream",
     "text": [
      "\n",
      "LABELS = set(\n",
      "    df[df.labels.apply(len) > 0]\n",
      "    .flag.apply(curate)\n",
      "    .apply(normalize)\n",
      "    .unique()\n",
      ")\n"
     ]
    },
    {
     "data": {
      "text/plain": [
       "<ExprStmt: LABELS = set(     df[df.labels.apply(len) > 0]     .flag.apply(curate)     .apply(normalize)     .unique() )@10,0>"
      ]
     },
     "execution_count": 85,
     "metadata": {},
     "output_type": "execute_result"
    }
   ],
   "source": [
    "block2 = module.children[2].children[0]\n",
    "print(block2.get_code())\n",
    "block2"
   ]
  },
  {
   "cell_type": "code",
   "execution_count": 86,
   "id": "centered-train",
   "metadata": {
    "collapsed": true,
    "execution": {
     "iopub.execute_input": "2021-08-05T19:17:52.336385Z",
     "iopub.status.busy": "2021-08-05T19:17:52.336100Z",
     "iopub.status.idle": "2021-08-05T19:17:52.341189Z",
     "shell.execute_reply": "2021-08-05T19:17:52.340441Z",
     "shell.execute_reply.started": "2021-08-05T19:17:52.336354Z"
    },
    "jupyter": {
     "outputs_hidden": true,
     "source_hidden": true
    },
    "tags": []
   },
   "outputs": [
    {
     "name": "stdout",
     "output_type": "stream",
     "text": [
      "\n",
      "return (\n",
      "    df_field[COLUMNS_PER_FIELD[name]]\n",
      "    .dropna(subset=[\"column\"])\n",
      "    .reset_index(drop=True)\n",
      "    .assign(mapped_type=MAP_DICT[name])\n",
      ")\n"
     ]
    },
    {
     "data": {
      "text/plain": [
       "<ReturnStmt: return (     df_field[COLUMNS_PER_FIELD[name]]     .dropna(subset=[\"column\"])     .reset_index(drop=True)     .assign(mapped_type=MAP_DICT[name]) )@17,0>"
      ]
     },
     "execution_count": 86,
     "metadata": {},
     "output_type": "execute_result"
    }
   ],
   "source": [
    "block3 = module.children[3]\n",
    "print(block3.get_code())\n",
    "block3"
   ]
  },
  {
   "cell_type": "code",
   "execution_count": 208,
   "id": "close-enforcement",
   "metadata": {
    "execution": {
     "iopub.execute_input": "2021-08-06T06:39:08.088485Z",
     "iopub.status.busy": "2021-08-06T06:39:08.088248Z",
     "iopub.status.idle": "2021-08-06T06:39:08.095660Z",
     "shell.execute_reply": "2021-08-06T06:39:08.094949Z",
     "shell.execute_reply.started": "2021-08-06T06:39:08.088460Z"
    },
    "tags": []
   },
   "outputs": [
    {
     "data": {
      "text/plain": [
       "[<Name: batch@5,4>,\n",
       " <Operator: =>,\n",
       " PythonNode(atom, [<Operator: (>, PythonNode(atom_expr, [<Name: batch@6,8>, PythonNode(trailer, [<Operator: (>, <Name: a@6,14>, <Operator: )>]), PythonNode(trailer, [<Operator: (>, <Name: b@6,17>, <Operator: )>]), PythonNode(trailer, [<Operator: .>, <Name: sample@7,9>]), PythonNode(trailer, [<Operator: (>, PythonNode(arglist, [PythonNode(argument, [<Name: frac@8,12>, <Operator: =>, <Name: param1@8,17>]), <Operator: ,>, PythonNode(argument, [<Name: rs@9,12>, <Operator: =>, <Name: param2@9,15>]), <Operator: ,>]), <Operator: )>]), PythonNode(trailer, [<Operator: .>, <Name: reset_index@11,9>]), PythonNode(trailer, [<Operator: (>, PythonNode(argument, [<Name: drop1@11,21>, <Operator: =>, <Keyword: True>]), <Operator: )>]), PythonNode(trailer, [<Operator: (>, PythonNode(argument, [<Name: drop2@11,33>, <Operator: =>, <Keyword: True>]), <Operator: )>]), PythonNode(trailer, [<Operator: .>, <Name: reset_index@12,9>]), PythonNode(trailer, [<Operator: (>, PythonNode(argument, [<Name: drop@12,21>, <Operator: =>, <Keyword: True>]), <Operator: )>]), PythonNode(trailer, [<Operator: .>, <Name: reset_index@12,32>]), PythonNode(trailer, [<Operator: (>, PythonNode(argument, [<Name: drop@12,44>, <Operator: =>, <Keyword: True>]), <Operator: )>])]), <Operator: )>])]"
      ]
     },
     "execution_count": 208,
     "metadata": {},
     "output_type": "execute_result"
    }
   ],
   "source": [
    "block1.children"
   ]
  },
  {
   "cell_type": "code",
   "execution_count": 88,
   "id": "military-stereo",
   "metadata": {
    "collapsed": true,
    "execution": {
     "iopub.execute_input": "2021-08-05T19:17:57.131207Z",
     "iopub.status.busy": "2021-08-05T19:17:57.130976Z",
     "iopub.status.idle": "2021-08-05T19:17:57.135187Z",
     "shell.execute_reply": "2021-08-05T19:17:57.134613Z",
     "shell.execute_reply.started": "2021-08-05T19:17:57.131183Z"
    },
    "jupyter": {
     "outputs_hidden": true,
     "source_hidden": true
    },
    "tags": []
   },
   "outputs": [
    {
     "data": {
      "text/plain": [
       "[<Name: set@10,9>,\n",
       " PythonNode(trailer, [<Operator: (>, PythonNode(atom_expr, [<Name: df@11,4>, PythonNode(trailer, [<Operator: [>, PythonNode(comparison, [PythonNode(atom_expr, [<Name: df@11,7>, PythonNode(trailer, [<Operator: .>, <Name: labels@11,10>]), PythonNode(trailer, [<Operator: .>, <Name: apply@11,17>]), PythonNode(trailer, [<Operator: (>, <Name: len@11,23>, <Operator: )>])]), <Operator: >>, <Number: 0>]), <Operator: ]>]), PythonNode(trailer, [<Operator: .>, <Name: flag@12,5>]), PythonNode(trailer, [<Operator: .>, <Name: apply@12,10>]), PythonNode(trailer, [<Operator: (>, <Name: curate@12,16>, <Operator: )>]), PythonNode(trailer, [<Operator: .>, <Name: apply@13,5>]), PythonNode(trailer, [<Operator: (>, <Name: normalize@13,11>, <Operator: )>]), PythonNode(trailer, [<Operator: .>, <Name: unique@14,5>]), PythonNode(trailer, [<Operator: (>, <Operator: )>])]), <Operator: )>])]"
      ]
     },
     "execution_count": 88,
     "metadata": {},
     "output_type": "execute_result"
    }
   ],
   "source": [
    "block2.children[2].children"
   ]
  },
  {
   "cell_type": "code",
   "execution_count": 89,
   "id": "driven-raleigh",
   "metadata": {
    "collapsed": true,
    "execution": {
     "iopub.execute_input": "2021-08-05T19:17:57.542898Z",
     "iopub.status.busy": "2021-08-05T19:17:57.542660Z",
     "iopub.status.idle": "2021-08-05T19:17:57.547551Z",
     "shell.execute_reply": "2021-08-05T19:17:57.546885Z",
     "shell.execute_reply.started": "2021-08-05T19:17:57.542873Z"
    },
    "jupyter": {
     "outputs_hidden": true,
     "source_hidden": true
    },
    "tags": []
   },
   "outputs": [
    {
     "data": {
      "text/plain": [
       "PythonNode(atom, [<Operator: (>, PythonNode(atom_expr, [<Name: df_field@18,4>, PythonNode(trailer, [<Operator: [>, PythonNode(atom_expr, [<Name: COLUMNS_PER_FIELD@18,13>, PythonNode(trailer, [<Operator: [>, <Name: name@18,31>, <Operator: ]>])]), <Operator: ]>]), PythonNode(trailer, [<Operator: .>, <Name: dropna@19,5>]), PythonNode(trailer, [<Operator: (>, PythonNode(argument, [<Name: subset@19,12>, <Operator: =>, PythonNode(atom, [<Operator: [>, <String: \"column\">, <Operator: ]>])]), <Operator: )>]), PythonNode(trailer, [<Operator: .>, <Name: reset_index@20,5>]), PythonNode(trailer, [<Operator: (>, PythonNode(argument, [<Name: drop@20,17>, <Operator: =>, <Keyword: True>]), <Operator: )>]), PythonNode(trailer, [<Operator: .>, <Name: assign@21,5>]), PythonNode(trailer, [<Operator: (>, PythonNode(argument, [<Name: mapped_type@21,12>, <Operator: =>, PythonNode(atom_expr, [<Name: MAP_DICT@21,24>, PythonNode(trailer, [<Operator: [>, <Name: name@21,33>, <Operator: ]>])])]), <Operator: )>])]), <Operator: )>])"
      ]
     },
     "execution_count": 89,
     "metadata": {},
     "output_type": "execute_result"
    }
   ],
   "source": [
    "block3.children[1]  # .children[1].children[1]"
   ]
  },
  {
   "cell_type": "markdown",
   "id": "persistent-correspondence",
   "metadata": {},
   "source": [
    "atom_expr is the types to inspect here"
   ]
  },
  {
   "cell_type": "markdown",
   "id": "incredible-honolulu",
   "metadata": {
    "lines_to_next_cell": 2
   },
   "source": [
    "### is_dotted_chain\n",
    "\n",
    "\n",
    "ae1 = block1.children[2].children[1]\n",
    "print(ae1.get_code())\n",
    "print(ae1.type)\n",
    "pd.DataFrame(dict(elem=ae1.children)).assign(\n",
    "    code=lambda df: df.elem.apply(lambda e: e.get_code()),\n",
    "    _type=lambda df: df.elem.apply(lambda e: type(e).__name__),\n",
    "    a_type=lambda df: df.elem.apply(lambda e: e.type),\n",
    "    first_leaf_prefix=lambda df: df.elem.apply(lambda e: \"'\" + e.get_first_leaf().prefix) + \"'\",\n",
    ")\n",
    "pd.Series(ae1).apply(lambda e: e.type)"
   ]
  },
  {
   "cell_type": "code",
   "execution_count": 216,
   "id": "rapid-secondary",
   "metadata": {
    "execution": {
     "iopub.execute_input": "2021-08-06T06:47:15.754673Z",
     "iopub.status.busy": "2021-08-06T06:47:15.754328Z",
     "iopub.status.idle": "2021-08-06T06:47:15.786002Z",
     "shell.execute_reply": "2021-08-06T06:47:15.785324Z",
     "shell.execute_reply.started": "2021-08-06T06:47:15.754637Z"
    },
    "tags": []
   },
   "outputs": [
    {
     "name": "stdout",
     "output_type": "stream",
     "text": [
      "\n",
      "        batch(a)(b)\n",
      "        .sample(\n",
      "            frac=param1,\n",
      "            rs=param2,\n",
      "        )\n",
      "        .reset_index(drop1=True)(drop2=True)\n",
      "        .reset_index(drop=True).reset_index(drop=True)\n",
      "atom_expr\n"
     ]
    },
    {
     "data": {
      "text/html": [
       "<div>\n",
       "<style scoped>\n",
       "    .dataframe tbody tr th:only-of-type {\n",
       "        vertical-align: middle;\n",
       "    }\n",
       "\n",
       "    .dataframe tbody tr th {\n",
       "        vertical-align: top;\n",
       "    }\n",
       "\n",
       "    .dataframe thead th {\n",
       "        text-align: right;\n",
       "    }\n",
       "</style>\n",
       "<table border=\"1\" class=\"dataframe\">\n",
       "  <thead>\n",
       "    <tr style=\"text-align: right;\">\n",
       "      <th></th>\n",
       "      <th>elem</th>\n",
       "      <th>code</th>\n",
       "      <th>_type</th>\n",
       "      <th>a_type</th>\n",
       "      <th>first_leaf_prefix</th>\n",
       "    </tr>\n",
       "  </thead>\n",
       "  <tbody>\n",
       "    <tr>\n",
       "      <th>0</th>\n",
       "      <td>&lt;Name: batch@6,8&gt;</td>\n",
       "      <td>\\n        batch</td>\n",
       "      <td>Name</td>\n",
       "      <td>name</td>\n",
       "      <td>'\\n        '</td>\n",
       "    </tr>\n",
       "    <tr>\n",
       "      <th>1</th>\n",
       "      <td>PythonNode(trailer, [&lt;Operator: (&gt;, &lt;Name: a@6...</td>\n",
       "      <td>(a)</td>\n",
       "      <td>PythonNode</td>\n",
       "      <td>trailer</td>\n",
       "      <td>''</td>\n",
       "    </tr>\n",
       "    <tr>\n",
       "      <th>2</th>\n",
       "      <td>PythonNode(trailer, [&lt;Operator: (&gt;, &lt;Name: b@6...</td>\n",
       "      <td>(b)</td>\n",
       "      <td>PythonNode</td>\n",
       "      <td>trailer</td>\n",
       "      <td>''</td>\n",
       "    </tr>\n",
       "    <tr>\n",
       "      <th>3</th>\n",
       "      <td>PythonNode(trailer, [&lt;Operator: .&gt;, &lt;Name: sam...</td>\n",
       "      <td>\\n        .sample</td>\n",
       "      <td>PythonNode</td>\n",
       "      <td>trailer</td>\n",
       "      <td>'\\n        '</td>\n",
       "    </tr>\n",
       "    <tr>\n",
       "      <th>4</th>\n",
       "      <td>PythonNode(trailer, [&lt;Operator: (&gt;, PythonNode...</td>\n",
       "      <td>(\\n            frac=param1,\\n            rs=pa...</td>\n",
       "      <td>PythonNode</td>\n",
       "      <td>trailer</td>\n",
       "      <td>''</td>\n",
       "    </tr>\n",
       "    <tr>\n",
       "      <th>5</th>\n",
       "      <td>PythonNode(trailer, [&lt;Operator: .&gt;, &lt;Name: res...</td>\n",
       "      <td>\\n        .reset_index</td>\n",
       "      <td>PythonNode</td>\n",
       "      <td>trailer</td>\n",
       "      <td>'\\n        '</td>\n",
       "    </tr>\n",
       "    <tr>\n",
       "      <th>6</th>\n",
       "      <td>PythonNode(trailer, [&lt;Operator: (&gt;, PythonNode...</td>\n",
       "      <td>(drop1=True)</td>\n",
       "      <td>PythonNode</td>\n",
       "      <td>trailer</td>\n",
       "      <td>''</td>\n",
       "    </tr>\n",
       "    <tr>\n",
       "      <th>7</th>\n",
       "      <td>PythonNode(trailer, [&lt;Operator: (&gt;, PythonNode...</td>\n",
       "      <td>(drop2=True)</td>\n",
       "      <td>PythonNode</td>\n",
       "      <td>trailer</td>\n",
       "      <td>''</td>\n",
       "    </tr>\n",
       "    <tr>\n",
       "      <th>8</th>\n",
       "      <td>PythonNode(trailer, [&lt;Operator: .&gt;, &lt;Name: res...</td>\n",
       "      <td>\\n        .reset_index</td>\n",
       "      <td>PythonNode</td>\n",
       "      <td>trailer</td>\n",
       "      <td>'\\n        '</td>\n",
       "    </tr>\n",
       "    <tr>\n",
       "      <th>9</th>\n",
       "      <td>PythonNode(trailer, [&lt;Operator: (&gt;, PythonNode...</td>\n",
       "      <td>(drop=True)</td>\n",
       "      <td>PythonNode</td>\n",
       "      <td>trailer</td>\n",
       "      <td>''</td>\n",
       "    </tr>\n",
       "    <tr>\n",
       "      <th>10</th>\n",
       "      <td>PythonNode(trailer, [&lt;Operator: .&gt;, &lt;Name: res...</td>\n",
       "      <td>.reset_index</td>\n",
       "      <td>PythonNode</td>\n",
       "      <td>trailer</td>\n",
       "      <td>''</td>\n",
       "    </tr>\n",
       "    <tr>\n",
       "      <th>11</th>\n",
       "      <td>PythonNode(trailer, [&lt;Operator: (&gt;, PythonNode...</td>\n",
       "      <td>(drop=True)</td>\n",
       "      <td>PythonNode</td>\n",
       "      <td>trailer</td>\n",
       "      <td>''</td>\n",
       "    </tr>\n",
       "  </tbody>\n",
       "</table>\n",
       "</div>"
      ],
      "text/plain": [
       "                                                 elem  \\\n",
       "0                                   <Name: batch@6,8>   \n",
       "1   PythonNode(trailer, [<Operator: (>, <Name: a@6...   \n",
       "2   PythonNode(trailer, [<Operator: (>, <Name: b@6...   \n",
       "3   PythonNode(trailer, [<Operator: .>, <Name: sam...   \n",
       "4   PythonNode(trailer, [<Operator: (>, PythonNode...   \n",
       "5   PythonNode(trailer, [<Operator: .>, <Name: res...   \n",
       "6   PythonNode(trailer, [<Operator: (>, PythonNode...   \n",
       "7   PythonNode(trailer, [<Operator: (>, PythonNode...   \n",
       "8   PythonNode(trailer, [<Operator: .>, <Name: res...   \n",
       "9   PythonNode(trailer, [<Operator: (>, PythonNode...   \n",
       "10  PythonNode(trailer, [<Operator: .>, <Name: res...   \n",
       "11  PythonNode(trailer, [<Operator: (>, PythonNode...   \n",
       "\n",
       "                                                 code       _type   a_type  \\\n",
       "0                                     \\n        batch        Name     name   \n",
       "1                                                 (a)  PythonNode  trailer   \n",
       "2                                                 (b)  PythonNode  trailer   \n",
       "3                                   \\n        .sample  PythonNode  trailer   \n",
       "4   (\\n            frac=param1,\\n            rs=pa...  PythonNode  trailer   \n",
       "5                              \\n        .reset_index  PythonNode  trailer   \n",
       "6                                        (drop1=True)  PythonNode  trailer   \n",
       "7                                        (drop2=True)  PythonNode  trailer   \n",
       "8                              \\n        .reset_index  PythonNode  trailer   \n",
       "9                                         (drop=True)  PythonNode  trailer   \n",
       "10                                       .reset_index  PythonNode  trailer   \n",
       "11                                        (drop=True)  PythonNode  trailer   \n",
       "\n",
       "   first_leaf_prefix  \n",
       "0       '\\n        '  \n",
       "1                 ''  \n",
       "2                 ''  \n",
       "3       '\\n        '  \n",
       "4                 ''  \n",
       "5       '\\n        '  \n",
       "6                 ''  \n",
       "7                 ''  \n",
       "8       '\\n        '  \n",
       "9                 ''  \n",
       "10                ''  \n",
       "11                ''  "
      ]
     },
     "execution_count": 216,
     "metadata": {},
     "output_type": "execute_result"
    }
   ],
   "source": [
    "def is_dotted_chain(atom_expr):\n",
    "    \"\"\"\n",
    "    Assert whether the given atom_expr is a dotted chain\n",
    "\n",
    "    Examples:\n",
    "\n",
    "    batch(a)(b)\n",
    "    .sample(\n",
    "        frac=param1,\n",
    "        rs=param2,\n",
    "    )\n",
    "    .reset_index(drop1=True)(drop2=True)\n",
    "    .reset_index(drop=True).reset_index(drop=True)\n",
    "    --> True\n",
    "\n",
    "    batch\n",
    "    (batch)\n",
    "    --> False\n",
    "\n",
    "    batch,\n",
    "    batch,\n",
    "    --> False\n",
    "\n",
    "    batch\n",
    "    .batch\n",
    "    --> True\n",
    "\n",
    "    batch\n",
    "    .batch(\n",
    "        x=4,\n",
    "    )\n",
    "    --> True\n",
    "\n",
    "    \"\"\"\n",
    "    # print(atom_expr.get_code())\n",
    "    # print(atom_expr)\n",
    "    children = atom_expr.children\n",
    "\n",
    "    # first node should start with \\n + tabs (sapces multiple of 4)\n",
    "    prefix_child1 = children[0].get_first_leaf().prefix\n",
    "    if not re.match(r\"\\n(?:\\s{4})+\", prefix_child1):\n",
    "        return False\n",
    "\n",
    "    # more than one child needed to be a dotted chain\n",
    "    if len(children) < 2:\n",
    "        return False\n",
    "\n",
    "    # all children after the first one that start with \\n + tabs should have a . afterwards\n",
    "    # otherwise it's not a dotted chain\n",
    "    for child in children[1:]:\n",
    "        code = child.get_code()\n",
    "        if re.match(r\"\\n(?:\\s{4})+\", code):\n",
    "            if not code.strip().startswith(\".\"):\n",
    "                return False\n",
    "\n",
    "    return True\n",
    "\n",
    "\n",
    "def read_and_turn_to_ae(code):\n",
    "    m = parso.parse(\"labels = (\" + code + \"\\n)\")\n",
    "    #     breakpoint()\n",
    "    return m.children[0].children[2].children[1]\n",
    "\n",
    "\n",
    "print(\n",
    "    is_dotted_chain(ae1),\n",
    "    is_dotted_chain(read_and_turn_to_ae(\"\\n    batch\\n    (batch)\")),\n",
    "    is_dotted_chain(read_and_turn_to_ae(\"\\n    batch,\\n    batch,\")),\n",
    "    is_dotted_chain(read_and_turn_to_ae(\"\\n    batch\\n    .batch\")),\n",
    "    is_dotted_chain(read_and_turn_to_ae(\"\\n    batch\\n    .batch(\\n        x=4,\\n    )\")),\n",
    ")"
   ]
  },
  {
   "cell_type": "code",
   "execution_count": 246,
   "id": "mexican-pitch",
   "metadata": {
    "execution": {
     "iopub.execute_input": "2021-08-06T07:36:13.652687Z",
     "iopub.status.busy": "2021-08-06T07:36:13.652473Z",
     "iopub.status.idle": "2021-08-06T07:36:13.657705Z",
     "shell.execute_reply": "2021-08-06T07:36:13.656831Z",
     "shell.execute_reply.started": "2021-08-06T07:36:13.652663Z"
    },
    "tags": []
   },
   "outputs": [
    {
     "data": {
      "text/plain": [
       "parso.python.tree.PythonNode"
      ]
     },
     "execution_count": 246,
     "metadata": {},
     "output_type": "execute_result"
    }
   ],
   "source": [
    "type(module.children[0])"
   ]
  },
  {
   "cell_type": "code",
   "execution_count": 214,
   "id": "intense-burns",
   "metadata": {
    "execution": {
     "iopub.execute_input": "2021-08-06T06:46:16.865243Z",
     "iopub.status.busy": "2021-08-06T06:46:16.865022Z",
     "iopub.status.idle": "2021-08-06T06:46:16.870315Z",
     "shell.execute_reply": "2021-08-06T06:46:16.869487Z",
     "shell.execute_reply.started": "2021-08-06T06:46:16.865220Z"
    },
    "tags": []
   },
   "outputs": [
    {
     "data": {
      "text/plain": [
       "<re.Match object; span=(0, 9), match='\\n        '>"
      ]
     },
     "execution_count": 214,
     "metadata": {},
     "output_type": "execute_result"
    }
   ],
   "source": [
    "re.match(r\"\\n(?:\\s{4})+\", ae1.children[0].prefix)"
   ]
  },
  {
   "cell_type": "code",
   "execution_count": 174,
   "id": "interested-reliance",
   "metadata": {
    "execution": {
     "iopub.execute_input": "2021-08-05T20:29:56.952775Z",
     "iopub.status.busy": "2021-08-05T20:29:56.952551Z",
     "iopub.status.idle": "2021-08-05T20:29:56.956723Z",
     "shell.execute_reply": "2021-08-05T20:29:56.956038Z",
     "shell.execute_reply.started": "2021-08-05T20:29:56.952752Z"
    },
    "tags": []
   },
   "outputs": [
    {
     "data": {
      "text/plain": [
       "'\\n        batch'"
      ]
     },
     "execution_count": 174,
     "metadata": {},
     "output_type": "execute_result"
    }
   ],
   "source": [
    "ae1.children[0].get_code()"
   ]
  },
  {
   "cell_type": "code",
   "execution_count": 220,
   "id": "postal-brick",
   "metadata": {
    "execution": {
     "iopub.execute_input": "2021-08-06T06:51:05.105122Z",
     "iopub.status.busy": "2021-08-06T06:51:05.104883Z",
     "iopub.status.idle": "2021-08-06T06:51:05.110378Z",
     "shell.execute_reply": "2021-08-06T06:51:05.109314Z",
     "shell.execute_reply.started": "2021-08-06T06:51:05.105094Z"
    },
    "tags": []
   },
   "outputs": [
    {
     "data": {
      "text/plain": [
       "'.sample'"
      ]
     },
     "execution_count": 220,
     "metadata": {},
     "output_type": "execute_result"
    }
   ],
   "source": [
    "ae1.children[3].get_code().strip()"
   ]
  },
  {
   "cell_type": "code",
   "execution_count": 118,
   "id": "working-tiffany",
   "metadata": {
    "execution": {
     "iopub.execute_input": "2021-08-05T19:52:52.902267Z",
     "iopub.status.busy": "2021-08-05T19:52:52.902036Z",
     "iopub.status.idle": "2021-08-05T19:52:52.906468Z",
     "shell.execute_reply": "2021-08-05T19:52:52.905821Z",
     "shell.execute_reply.started": "2021-08-05T19:52:52.902244Z"
    },
    "tags": []
   },
   "outputs": [
    {
     "data": {
      "text/plain": [
       "<Operator: .>"
      ]
     },
     "execution_count": 118,
     "metadata": {},
     "output_type": "execute_result"
    }
   ],
   "source": [
    "ae1[1].children[0]"
   ]
  }
 ],
 "metadata": {
  "jupytext": {
   "cell_metadata_filter": "incorrectly_encoded_metadata,jupyter,tags,-execution",
   "formats": "ipynb,py:percent"
  },
  "kernelspec": {
   "display_name": "glo-black",
   "language": "python",
   "name": "glo-black"
  },
  "language_info": {
   "codemirror_mode": {
    "name": "ipython",
    "version": 3
   },
   "file_extension": ".py",
   "mimetype": "text/x-python",
   "name": "python",
   "nbconvert_exporter": "python",
   "pygments_lexer": "ipython3",
   "version": "3.8.5"
  },
  "widgets": {
   "application/vnd.jupyter.widget-state+json": {
    "state": {},
    "version_major": 2,
    "version_minor": 0
   }
  }
 },
 "nbformat": 4,
 "nbformat_minor": 5
}
